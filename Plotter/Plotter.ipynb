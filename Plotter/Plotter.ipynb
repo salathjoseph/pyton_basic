{
 "cells": [
  {
   "cell_type": "markdown",
   "source": [
    "# Plotter"
   ],
   "metadata": {}
  },
  {
   "cell_type": "markdown",
   "source": [
    "**Author:** [Leah Nguyen](https://github.com/ndleah)"
   ],
   "metadata": {}
  },
  {
   "cell_type": "markdown",
   "source": [
    "## Description"
   ],
   "metadata": {}
  },
  {
   "cell_type": "markdown",
   "source": [
    "An automation program to plot data with different visualisations by user selections"
   ],
   "metadata": {}
  },
  {
   "cell_type": "markdown",
   "source": [
    "## Requirement"
   ],
   "metadata": {}
  },
  {
   "cell_type": "code",
   "execution_count": 1,
   "source": [
    "!pip install chart_studio\r\n",
    "!pip install cufflinks"
   ],
   "outputs": [
    {
     "output_type": "stream",
     "name": "stdout",
     "text": [
      "Requirement already satisfied: chart_studio in c:\\users\\leah nguyen\\anaconda3\\lib\\site-packages (1.1.0)\n",
      "Requirement already satisfied: plotly in c:\\users\\leah nguyen\\anaconda3\\lib\\site-packages (from chart_studio) (5.1.0)\n",
      "Requirement already satisfied: retrying>=1.3.3 in c:\\users\\leah nguyen\\anaconda3\\lib\\site-packages (from chart_studio) (1.3.3)\n",
      "Requirement already satisfied: requests in c:\\users\\leah nguyen\\anaconda3\\lib\\site-packages (from chart_studio) (2.24.0)\n",
      "Requirement already satisfied: six in c:\\users\\leah nguyen\\anaconda3\\lib\\site-packages (from chart_studio) (1.15.0)\n",
      "Requirement already satisfied: tenacity>=6.2.0 in c:\\users\\leah nguyen\\anaconda3\\lib\\site-packages (from plotly->chart_studio) (7.0.0)\n",
      "Requirement already satisfied: idna<3,>=2.5 in c:\\users\\leah nguyen\\anaconda3\\lib\\site-packages (from requests->chart_studio) (2.10)\n",
      "Requirement already satisfied: certifi>=2017.4.17 in c:\\users\\leah nguyen\\anaconda3\\lib\\site-packages (from requests->chart_studio) (2020.6.20)\n",
      "Requirement already satisfied: chardet<4,>=3.0.2 in c:\\users\\leah nguyen\\anaconda3\\lib\\site-packages (from requests->chart_studio) (3.0.4)\n",
      "Requirement already satisfied: urllib3!=1.25.0,!=1.25.1,<1.26,>=1.21.1 in c:\\users\\leah nguyen\\anaconda3\\lib\\site-packages (from requests->chart_studio) (1.25.11)\n",
      "Requirement already satisfied: cufflinks in c:\\users\\leah nguyen\\anaconda3\\lib\\site-packages (0.17.3)\n",
      "Requirement already satisfied: colorlover>=0.2.1 in c:\\users\\leah nguyen\\anaconda3\\lib\\site-packages (from cufflinks) (0.3.0)\n",
      "Requirement already satisfied: numpy>=1.9.2 in c:\\users\\leah nguyen\\anaconda3\\lib\\site-packages (from cufflinks) (1.19.2)\n",
      "Requirement already satisfied: pandas>=0.19.2 in c:\\users\\leah nguyen\\anaconda3\\lib\\site-packages (from cufflinks) (1.1.3)\n",
      "Requirement already satisfied: plotly>=4.1.1 in c:\\users\\leah nguyen\\anaconda3\\lib\\site-packages (from cufflinks) (5.1.0)\n",
      "Requirement already satisfied: setuptools>=34.4.1 in c:\\users\\leah nguyen\\anaconda3\\lib\\site-packages (from cufflinks) (50.3.1.post20201107)\n",
      "Requirement already satisfied: ipywidgets>=7.0.0 in c:\\users\\leah nguyen\\anaconda3\\lib\\site-packages (from cufflinks) (7.5.1)\n",
      "Requirement already satisfied: ipython>=5.3.0 in c:\\users\\leah nguyen\\anaconda3\\lib\\site-packages (from cufflinks) (7.19.0)\n",
      "Requirement already satisfied: six>=1.9.0 in c:\\users\\leah nguyen\\anaconda3\\lib\\site-packages (from cufflinks) (1.15.0)\n",
      "Requirement already satisfied: python-dateutil>=2.7.3 in c:\\users\\leah nguyen\\anaconda3\\lib\\site-packages (from pandas>=0.19.2->cufflinks) (2.8.1)\n",
      "Requirement already satisfied: pytz>=2017.2 in c:\\users\\leah nguyen\\anaconda3\\lib\\site-packages (from pandas>=0.19.2->cufflinks) (2020.1)\n",
      "Requirement already satisfied: tenacity>=6.2.0 in c:\\users\\leah nguyen\\anaconda3\\lib\\site-packages (from plotly>=4.1.1->cufflinks) (7.0.0)\n",
      "Requirement already satisfied: widgetsnbextension~=3.5.0 in c:\\users\\leah nguyen\\anaconda3\\lib\\site-packages (from ipywidgets>=7.0.0->cufflinks) (3.5.1)\n",
      "Requirement already satisfied: traitlets>=4.3.1 in c:\\users\\leah nguyen\\anaconda3\\lib\\site-packages (from ipywidgets>=7.0.0->cufflinks) (5.0.5)\n",
      "Requirement already satisfied: nbformat>=4.2.0 in c:\\users\\leah nguyen\\anaconda3\\lib\\site-packages (from ipywidgets>=7.0.0->cufflinks) (5.0.8)\n",
      "Requirement already satisfied: ipykernel>=4.5.1 in c:\\users\\leah nguyen\\anaconda3\\lib\\site-packages (from ipywidgets>=7.0.0->cufflinks) (5.3.4)\n",
      "Requirement already satisfied: pygments in c:\\users\\leah nguyen\\anaconda3\\lib\\site-packages (from ipython>=5.3.0->cufflinks) (2.7.2)\n",
      "Requirement already satisfied: colorama; sys_platform == \"win32\" in c:\\users\\leah nguyen\\anaconda3\\lib\\site-packages (from ipython>=5.3.0->cufflinks) (0.4.4)\n",
      "Requirement already satisfied: pickleshare in c:\\users\\leah nguyen\\anaconda3\\lib\\site-packages (from ipython>=5.3.0->cufflinks) (0.7.5)\n",
      "Requirement already satisfied: jedi>=0.10 in c:\\users\\leah nguyen\\anaconda3\\lib\\site-packages (from ipython>=5.3.0->cufflinks) (0.17.1)\n",
      "Requirement already satisfied: prompt-toolkit!=3.0.0,!=3.0.1,<3.1.0,>=2.0.0 in c:\\users\\leah nguyen\\anaconda3\\lib\\site-packages (from ipython>=5.3.0->cufflinks) (3.0.8)\n",
      "Requirement already satisfied: backcall in c:\\users\\leah nguyen\\anaconda3\\lib\\site-packages (from ipython>=5.3.0->cufflinks) (0.2.0)\n",
      "Requirement already satisfied: decorator in c:\\users\\leah nguyen\\anaconda3\\lib\\site-packages (from ipython>=5.3.0->cufflinks) (4.4.2)\n",
      "Requirement already satisfied: notebook>=4.4.1 in c:\\users\\leah nguyen\\anaconda3\\lib\\site-packages (from widgetsnbextension~=3.5.0->ipywidgets>=7.0.0->cufflinks) (6.1.4)\n",
      "Requirement already satisfied: ipython-genutils in c:\\users\\leah nguyen\\anaconda3\\lib\\site-packages (from traitlets>=4.3.1->ipywidgets>=7.0.0->cufflinks) (0.2.0)\n",
      "Requirement already satisfied: jupyter-core in c:\\users\\leah nguyen\\anaconda3\\lib\\site-packages (from nbformat>=4.2.0->ipywidgets>=7.0.0->cufflinks) (4.6.3)\n",
      "Requirement already satisfied: jsonschema!=2.5.0,>=2.4 in c:\\users\\leah nguyen\\anaconda3\\lib\\site-packages (from nbformat>=4.2.0->ipywidgets>=7.0.0->cufflinks) (3.2.0)\n",
      "Requirement already satisfied: tornado>=4.2 in c:\\users\\leah nguyen\\anaconda3\\lib\\site-packages (from ipykernel>=4.5.1->ipywidgets>=7.0.0->cufflinks) (6.0.4)\n",
      "Requirement already satisfied: jupyter-client in c:\\users\\leah nguyen\\anaconda3\\lib\\site-packages (from ipykernel>=4.5.1->ipywidgets>=7.0.0->cufflinks) (6.1.7)\n",
      "Requirement already satisfied: parso<0.8.0,>=0.7.0 in c:\\users\\leah nguyen\\anaconda3\\lib\\site-packages (from jedi>=0.10->ipython>=5.3.0->cufflinks) (0.7.0)\n",
      "Requirement already satisfied: wcwidth in c:\\users\\leah nguyen\\anaconda3\\lib\\site-packages (from prompt-toolkit!=3.0.0,!=3.0.1,<3.1.0,>=2.0.0->ipython>=5.3.0->cufflinks) (0.2.5)\n",
      "Requirement already satisfied: nbconvert in c:\\users\\leah nguyen\\anaconda3\\lib\\site-packages (from notebook>=4.4.1->widgetsnbextension~=3.5.0->ipywidgets>=7.0.0->cufflinks) (6.0.7)\n",
      "Requirement already satisfied: argon2-cffi in c:\\users\\leah nguyen\\anaconda3\\lib\\site-packages (from notebook>=4.4.1->widgetsnbextension~=3.5.0->ipywidgets>=7.0.0->cufflinks) (20.1.0)\n",
      "Requirement already satisfied: jinja2 in c:\\users\\leah nguyen\\anaconda3\\lib\\site-packages (from notebook>=4.4.1->widgetsnbextension~=3.5.0->ipywidgets>=7.0.0->cufflinks) (2.11.2)\n",
      "Requirement already satisfied: pyzmq>=17 in c:\\users\\leah nguyen\\anaconda3\\lib\\site-packages (from notebook>=4.4.1->widgetsnbextension~=3.5.0->ipywidgets>=7.0.0->cufflinks) (19.0.2)\n",
      "Requirement already satisfied: terminado>=0.8.3 in c:\\users\\leah nguyen\\anaconda3\\lib\\site-packages (from notebook>=4.4.1->widgetsnbextension~=3.5.0->ipywidgets>=7.0.0->cufflinks) (0.9.1)\n",
      "Requirement already satisfied: prometheus-client in c:\\users\\leah nguyen\\anaconda3\\lib\\site-packages (from notebook>=4.4.1->widgetsnbextension~=3.5.0->ipywidgets>=7.0.0->cufflinks) (0.8.0)\n",
      "Requirement already satisfied: Send2Trash in c:\\users\\leah nguyen\\anaconda3\\lib\\site-packages (from notebook>=4.4.1->widgetsnbextension~=3.5.0->ipywidgets>=7.0.0->cufflinks) (1.5.0)\n",
      "Requirement already satisfied: pywin32>=1.0; sys_platform == \"win32\" in c:\\users\\leah nguyen\\anaconda3\\lib\\site-packages (from jupyter-core->nbformat>=4.2.0->ipywidgets>=7.0.0->cufflinks) (227)\n",
      "Requirement already satisfied: pyrsistent>=0.14.0 in c:\\users\\leah nguyen\\anaconda3\\lib\\site-packages (from jsonschema!=2.5.0,>=2.4->nbformat>=4.2.0->ipywidgets>=7.0.0->cufflinks) (0.17.3)\n",
      "Requirement already satisfied: attrs>=17.4.0 in c:\\users\\leah nguyen\\anaconda3\\lib\\site-packages (from jsonschema!=2.5.0,>=2.4->nbformat>=4.2.0->ipywidgets>=7.0.0->cufflinks) (20.3.0)\n",
      "Requirement already satisfied: testpath in c:\\users\\leah nguyen\\anaconda3\\lib\\site-packages (from nbconvert->notebook>=4.4.1->widgetsnbextension~=3.5.0->ipywidgets>=7.0.0->cufflinks) (0.4.4)\n",
      "Requirement already satisfied: nbclient<0.6.0,>=0.5.0 in c:\\users\\leah nguyen\\anaconda3\\lib\\site-packages (from nbconvert->notebook>=4.4.1->widgetsnbextension~=3.5.0->ipywidgets>=7.0.0->cufflinks) (0.5.1)\n",
      "Requirement already satisfied: bleach in c:\\users\\leah nguyen\\anaconda3\\lib\\site-packages (from nbconvert->notebook>=4.4.1->widgetsnbextension~=3.5.0->ipywidgets>=7.0.0->cufflinks) (3.2.1)\n",
      "Requirement already satisfied: pandocfilters>=1.4.1 in c:\\users\\leah nguyen\\anaconda3\\lib\\site-packages (from nbconvert->notebook>=4.4.1->widgetsnbextension~=3.5.0->ipywidgets>=7.0.0->cufflinks) (1.4.3)\n",
      "Requirement already satisfied: entrypoints>=0.2.2 in c:\\users\\leah nguyen\\anaconda3\\lib\\site-packages (from nbconvert->notebook>=4.4.1->widgetsnbextension~=3.5.0->ipywidgets>=7.0.0->cufflinks) (0.3)\n",
      "Requirement already satisfied: jupyterlab-pygments in c:\\users\\leah nguyen\\anaconda3\\lib\\site-packages (from nbconvert->notebook>=4.4.1->widgetsnbextension~=3.5.0->ipywidgets>=7.0.0->cufflinks) (0.1.2)\n",
      "Requirement already satisfied: defusedxml in c:\\users\\leah nguyen\\anaconda3\\lib\\site-packages (from nbconvert->notebook>=4.4.1->widgetsnbextension~=3.5.0->ipywidgets>=7.0.0->cufflinks) (0.6.0)\n",
      "Requirement already satisfied: mistune<2,>=0.8.1 in c:\\users\\leah nguyen\\anaconda3\\lib\\site-packages (from nbconvert->notebook>=4.4.1->widgetsnbextension~=3.5.0->ipywidgets>=7.0.0->cufflinks) (0.8.4)\n",
      "Requirement already satisfied: cffi>=1.0.0 in c:\\users\\leah nguyen\\anaconda3\\lib\\site-packages (from argon2-cffi->notebook>=4.4.1->widgetsnbextension~=3.5.0->ipywidgets>=7.0.0->cufflinks) (1.14.3)\n",
      "Requirement already satisfied: MarkupSafe>=0.23 in c:\\users\\leah nguyen\\anaconda3\\lib\\site-packages (from jinja2->notebook>=4.4.1->widgetsnbextension~=3.5.0->ipywidgets>=7.0.0->cufflinks) (1.1.1)\n",
      "Requirement already satisfied: pywinpty>=0.5 in c:\\users\\leah nguyen\\anaconda3\\lib\\site-packages (from terminado>=0.8.3->notebook>=4.4.1->widgetsnbextension~=3.5.0->ipywidgets>=7.0.0->cufflinks) (0.5.7)\n",
      "Requirement already satisfied: nest-asyncio in c:\\users\\leah nguyen\\anaconda3\\lib\\site-packages (from nbclient<0.6.0,>=0.5.0->nbconvert->notebook>=4.4.1->widgetsnbextension~=3.5.0->ipywidgets>=7.0.0->cufflinks) (1.4.2)\n",
      "Requirement already satisfied: async-generator in c:\\users\\leah nguyen\\anaconda3\\lib\\site-packages (from nbclient<0.6.0,>=0.5.0->nbconvert->notebook>=4.4.1->widgetsnbextension~=3.5.0->ipywidgets>=7.0.0->cufflinks) (1.10)\n",
      "Requirement already satisfied: packaging in c:\\users\\leah nguyen\\anaconda3\\lib\\site-packages (from bleach->nbconvert->notebook>=4.4.1->widgetsnbextension~=3.5.0->ipywidgets>=7.0.0->cufflinks) (20.4)\n",
      "Requirement already satisfied: webencodings in c:\\users\\leah nguyen\\anaconda3\\lib\\site-packages (from bleach->nbconvert->notebook>=4.4.1->widgetsnbextension~=3.5.0->ipywidgets>=7.0.0->cufflinks) (0.5.1)\n",
      "Requirement already satisfied: pycparser in c:\\users\\leah nguyen\\anaconda3\\lib\\site-packages (from cffi>=1.0.0->argon2-cffi->notebook>=4.4.1->widgetsnbextension~=3.5.0->ipywidgets>=7.0.0->cufflinks) (2.20)\n",
      "Requirement already satisfied: pyparsing>=2.0.2 in c:\\users\\leah nguyen\\anaconda3\\lib\\site-packages (from packaging->bleach->nbconvert->notebook>=4.4.1->widgetsnbextension~=3.5.0->ipywidgets>=7.0.0->cufflinks) (2.4.7)\n"
     ]
    }
   ],
   "metadata": {}
  },
  {
   "cell_type": "markdown",
   "source": [
    "## Import libraries"
   ],
   "metadata": {}
  },
  {
   "cell_type": "code",
   "execution_count": 2,
   "source": [
    "import numpy as np\n",
    "import pandas as pd\n",
    "import chart_studio.plotly as pl\n",
    "import plotly.offline as po\n",
    "import cufflinks as cf"
   ],
   "outputs": [],
   "metadata": {}
  },
  {
   "cell_type": "markdown",
   "source": [
    "Setting cufflinks to offline mode"
   ],
   "metadata": {}
  },
  {
   "cell_type": "code",
   "execution_count": 3,
   "source": [
    "po.init_notebook_mode(connected = True)\n",
    "cf.go_offline()"
   ],
   "outputs": [
    {
     "output_type": "display_data",
     "data": {
      "text/html": [
       "        <script type=\"text/javascript\">\n",
       "        window.PlotlyConfig = {MathJaxConfig: 'local'};\n",
       "        if (window.MathJax) {MathJax.Hub.Config({SVG: {font: \"STIX-Web\"}});}\n",
       "        if (typeof require !== 'undefined') {\n",
       "        require.undef(\"plotly\");\n",
       "        requirejs.config({\n",
       "            paths: {\n",
       "                'plotly': ['https://cdn.plot.ly/plotly-2.2.0.min']\n",
       "            }\n",
       "        });\n",
       "        require(['plotly'], function(Plotly) {\n",
       "            window._Plotly = Plotly;\n",
       "        });\n",
       "        }\n",
       "        </script>\n",
       "        "
      ]
     },
     "metadata": {}
    },
    {
     "output_type": "display_data",
     "data": {
      "text/html": [
       "        <script type=\"text/javascript\">\n",
       "        window.PlotlyConfig = {MathJaxConfig: 'local'};\n",
       "        if (window.MathJax) {MathJax.Hub.Config({SVG: {font: \"STIX-Web\"}});}\n",
       "        if (typeof require !== 'undefined') {\n",
       "        require.undef(\"plotly\");\n",
       "        requirejs.config({\n",
       "            paths: {\n",
       "                'plotly': ['https://cdn.plot.ly/plotly-2.2.0.min']\n",
       "            }\n",
       "        });\n",
       "        require(['plotly'], function(Plotly) {\n",
       "            window._Plotly = Plotly;\n",
       "        });\n",
       "        }\n",
       "        </script>\n",
       "        "
      ]
     },
     "metadata": {}
    }
   ],
   "metadata": {}
  },
  {
   "cell_type": "markdown",
   "source": [
    "## Define automation functions"
   ],
   "metadata": {}
  },
  {
   "cell_type": "markdown",
   "source": [
    " Differentcreate data options using function ```createdata```"
   ],
   "metadata": {}
  },
  {
   "cell_type": "code",
   "execution_count": 4,
   "source": [
    "def createdata(data):\r\n",
    "    if(data == 1):\r\n",
    "        x = np.random.rand(100, 5)\r\n",
    "        df1 = pd.DataFrame(x, columns = ['A', 'B', 'C', 'D', 'E'])\r\n",
    "    elif(data == 2):\r\n",
    "        x = [0,0,0,0,0]\r\n",
    "        r1 = [0,0,0,0,0]\r\n",
    "        r2 = [0,0,0,0,0]\r\n",
    "        r3 = [0,0,0,0,0]\r\n",
    "        r4 = [0,0,0,0,0]\r\n",
    "        print('Enter the values for columns ')\r\n",
    "        i = 0\r\n",
    "        for i in (0,1,2,3,4):\r\n",
    "            x[i] = input()\r\n",
    "            i = i + 1\r\n",
    "        print('Enter the values for first row ')\r\n",
    "        i = 0\r\n",
    "        for i in (0,1,2,3,4):\r\n",
    "            r1[i] = int(input())\r\n",
    "            i = i + 1\r\n",
    "        print('Enter the values for second row ')\r\n",
    "        i = 0\r\n",
    "        for i in (0,1,2,3,4):\r\n",
    "            r2[i] = int(input())\r\n",
    "            i = i + 1\r\n",
    "        print('Enter the values for third row ')\r\n",
    "        i = 0\r\n",
    "        for i in (0,1,2,3,4):\r\n",
    "            r3[i] = int(input())\r\n",
    "            i = i + 1\r\n",
    "        print('Enter the values for forth row ')\r\n",
    "        i = 0\r\n",
    "        for i in (0,1,2,3,4):\r\n",
    "            r4[i] = int(input())\r\n",
    "            i = i + 1\r\n",
    "        df1= pd.DataFrame([r1, r2, r3, r4], columns = x)\r\n",
    "    elif(data == 3):\r\n",
    "        file = input('Enter the file name ')\r\n",
    "        x = pd.read_csv(file)\r\n",
    "        df1 = pd.DataFrame(x)\r\n",
    "    else:\r\n",
    "        print('Dataframe creation failed, please enter in between 1 to 3 and try ')\r\n",
    "    return df1"
   ],
   "outputs": [],
   "metadata": {}
  },
  {
   "cell_type": "markdown",
   "source": [
    "Plotting all columns option using function ```plotter```"
   ],
   "metadata": {}
  },
  {
   "cell_type": "code",
   "execution_count": 5,
   "source": [
    "def plotter(plot):\r\n",
    "    if(plot == 1):\r\n",
    "        finalplot = df1.iplot(kind = 'scatter')\r\n",
    "    elif(plot == 2):\r\n",
    "        finalplot = df1.iplotfinalplot = df1.iplot(kind = 'scatter', mode = 'markers', symbol = 'x', colorscale = 'paired')\r\n",
    "    elif(plot == 3):\r\n",
    "        finalplot = df1.iplot(kind = 'bar')\r\n",
    "    elif(plot == 4):\r\n",
    "        finalplot = df1.iplot(kind = 'hist')\r\n",
    "    elif(plot == 5):\r\n",
    "        finalplot = df1.iplot(kind = 'box')\r\n",
    "    elif(plot == 6):\r\n",
    "        finalplot = df1.iplot(kind = 'surface')\r\n",
    "    else:\r\n",
    "        finalplot = print('Select only between 1 to 7')\r\n",
    "    return finalplot"
   ],
   "outputs": [],
   "metadata": {}
  },
  {
   "cell_type": "markdown",
   "source": [
    "Plotting by selecting specific columns using function ```plotter2```"
   ],
   "metadata": {}
  },
  {
   "cell_type": "code",
   "execution_count": 6,
   "source": [
    "def plotter2(plot):\r\n",
    "    col = input('Enter the number of columns you want to plot by selecting only 1, 2 or 3')\r\n",
    "    col = int(col)\r\n",
    "    if(col == 1):\r\n",
    "        coln = input('Enter the column you want to plot by selecting any column from dataframe head')\r\n",
    "        if(plot == 1):\r\n",
    "            finalplot = df1[coln].iplot(kind = 'scatter')\r\n",
    "        elif(plot == 2):\r\n",
    "            finalplot = df1[coln].iplot(kind = 'scatter', mode = 'markers', symbol = 'x', colorscale = 'paired')\r\n",
    "        elif(plot == 3):\r\n",
    "            finalplot = df1[coln].iplot(kind = 'bar')\r\n",
    "        elif(plot == 4):\r\n",
    "            finalplot = df1[coln].iplot(kind = 'hist')\r\n",
    "        elif(plot == 5):\r\n",
    "            finalplot = df1[coln].iplot(kind = 'box')\r\n",
    "        elif(plot == 6 or plot == 7):\r\n",
    "            finalplot = print(\"Bubble plot and surface plot require more than one column arguements\")\r\n",
    "        else:\r\n",
    "            finalplot = print('Select only between 1 to 7')               \r\n",
    "    elif(col == 2):\r\n",
    "        print('Enter the columns you want to plot by selecting from dataframe head')\r\n",
    "        x = input('First column')\r\n",
    "        y = input('Second column')\r\n",
    "        if(plot == 1):\r\n",
    "            finalplot = df1[[x, y]].iplot(kind = 'scatter')\r\n",
    "        elif(plot == 2):\r\n",
    "            finalplot = df1[[x, y]].iplot(kind = 'scatter', mode = 'markers', symbol = 'x', colorscale = 'paired')\r\n",
    "        elif(plot == 3):\r\n",
    "            finalplot = df1[[x, y]].iplot(kind = 'bar')\r\n",
    "        elif(plot == 4):\r\n",
    "            finalplot = df1[[x, y]].iplot(kind = 'hist')\r\n",
    "        elif(plot == 5):\r\n",
    "            finalplot = df1[[x, y]].iplot(kind = 'box')\r\n",
    "        elif(plot == 6):\r\n",
    "            finalplot = df1[[x, y]].iplot(kind = 'surface')\r\n",
    "        elif(plot == 7):\r\n",
    "            size = input('Please enter the size column for bubble plot')\r\n",
    "            finalplot = df1.iplot(kind = 'bubble', x=x, y=y, size=size)\r\n",
    "        else:\r\n",
    "            finalplot = print('Select only between 1 to 7')              \r\n",
    "    elif(col == 3):\r\n",
    "        print('Enter the columns you want to plot')\r\n",
    "        x = input('First column')\r\n",
    "        y = input('Second column')\r\n",
    "        z = input('Third column')\r\n",
    "        if(plot == 1):\r\n",
    "            finalplot = df1[[x, y, z]].iplot(kind = 'scatter')\r\n",
    "        elif(plot == 2):\r\n",
    "            finalplot = df1[[x, y, z]].iplot(kind = 'scatter', mode = 'markers', symbol = 'x', colorscale = 'paired')\r\n",
    "        elif(plot == 3):\r\n",
    "            finalplot = df1[[x, y, z]].iplot(kind = 'bar')\r\n",
    "        elif(plot == 4):\r\n",
    "            finalplot = df1[[x, y, z]].iplot(kind = 'hist')\r\n",
    "        elif(plot == 5):\r\n",
    "            finalplot = df1[[x, y, z]].iplot(kind = 'box')\r\n",
    "        elif(plot == 6):\r\n",
    "            finalplot = df1[[x, y, z]].iplot(kind = 'surface')\r\n",
    "        elif(plot == 7):\r\n",
    "            size = input('Please enter the size column for bubble plot')\r\n",
    "            finalplot = df1.iplot(kind = 'bubble', x=x, y=y, z=z, size=size)\r\n",
    "        else:\r\n",
    "            finalplot = print('Select only between 1 to 7')\r\n",
    "    else:\r\n",
    "        finalplot = print('Please enter only 1, 2 or 3 and try again')\r\n",
    "    return finalplot"
   ],
   "outputs": [],
   "metadata": {}
  },
  {
   "cell_type": "markdown",
   "source": [
    "User selection with plotting table using function ```main```"
   ],
   "metadata": {}
  },
  {
   "cell_type": "code",
   "execution_count": 7,
   "source": [
    "def main(cat):\n",
    "    if(cat == 1):\n",
    "        print('Select the type of plot you want to plot by writing 1 to 6')\n",
    "        print('1. Line Plot')\n",
    "        print('2. Scatter Plot')\n",
    "        print('3. Bar Plot')\n",
    "        print('4. Histogram')\n",
    "        print('5. Box Plot')\n",
    "        print('6. Surface Plot')\n",
    "        plot = int(input())\n",
    "        output = plotter(plot)\n",
    "    elif(cat == 2):\n",
    "        print('Select the type of plot you want to plot by writing 1 to 7')\n",
    "        print('1. Line Plot')\n",
    "        print('2. Scatter Plot')\n",
    "        print('3. Bar Plot')\n",
    "        print('4. Histogram')\n",
    "        print('5. Box Plot')\n",
    "        print('6. Surface Plot')\n",
    "        print('7. Bubble Plot')\n",
    "        plot = int(input())\n",
    "        output = plotter2(plot)\n",
    "    else:\n",
    "        print('Please enter 1 or 2 and try again')"
   ],
   "outputs": [],
   "metadata": {}
  },
  {
   "cell_type": "markdown",
   "source": [
    "## Scripts for code executions"
   ],
   "metadata": {}
  },
  {
   "cell_type": "markdown",
   "source": [
    "1. User choose the way they want data to be create:"
   ],
   "metadata": {}
  },
  {
   "cell_type": "code",
   "execution_count": 8,
   "source": [
    "print('Select the type of data you need to plot(By writing 1, 2, or 3)')\n",
    "print('1. Random data with 100 rows and 5 columns')\n",
    "print('2. Customize dataframe with 5 colums and 4 rows')\n",
    "print('3. Upload csv/json/txt file')\n",
    "data = int(input())\n",
    "df1 = createdata(data)"
   ],
   "outputs": [
    {
     "output_type": "stream",
     "name": "stdout",
     "text": [
      "Select the type of data you need to plot(By writing 1, 2, or 3)\n",
      "1. Random data with 100 rows and 5 columns\n",
      "2. Customize dataframe with 5 colums and 4 rows\n",
      "3. Upload csv/json/txt file\n",
      "1\n"
     ]
    }
   ],
   "metadata": {
    "scrolled": true
   }
  },
  {
   "cell_type": "markdown",
   "source": [
    "2. Inspecting the first 5 rows of the dataframe using ```head()``` function:"
   ],
   "metadata": {}
  },
  {
   "cell_type": "code",
   "execution_count": 9,
   "source": [
    "print('Your DataFrame head is given below, check the columns to plot using cufflinks')\n",
    "df1.head()"
   ],
   "outputs": [
    {
     "output_type": "stream",
     "name": "stdout",
     "text": [
      "Your DataFrame head is given below, check the columns to plot using cufflinks\n"
     ]
    },
    {
     "output_type": "execute_result",
     "data": {
      "text/plain": [
       "          A         B         C         D         E\n",
       "0  0.308356  0.135629  0.609048  0.540077  0.492091\n",
       "1  0.029683  0.333192  0.960456  0.436233  0.680954\n",
       "2  0.583523  0.621940  0.110303  0.420751  0.402851\n",
       "3  0.057509  0.382840  0.314781  0.626836  0.809157\n",
       "4  0.940898  0.122087  0.226713  0.265897  0.406339"
      ],
      "text/html": [
       "<div>\n",
       "<style scoped>\n",
       "    .dataframe tbody tr th:only-of-type {\n",
       "        vertical-align: middle;\n",
       "    }\n",
       "\n",
       "    .dataframe tbody tr th {\n",
       "        vertical-align: top;\n",
       "    }\n",
       "\n",
       "    .dataframe thead th {\n",
       "        text-align: right;\n",
       "    }\n",
       "</style>\n",
       "<table border=\"1\" class=\"dataframe\">\n",
       "  <thead>\n",
       "    <tr style=\"text-align: right;\">\n",
       "      <th></th>\n",
       "      <th>A</th>\n",
       "      <th>B</th>\n",
       "      <th>C</th>\n",
       "      <th>D</th>\n",
       "      <th>E</th>\n",
       "    </tr>\n",
       "  </thead>\n",
       "  <tbody>\n",
       "    <tr>\n",
       "      <th>0</th>\n",
       "      <td>0.308356</td>\n",
       "      <td>0.135629</td>\n",
       "      <td>0.609048</td>\n",
       "      <td>0.540077</td>\n",
       "      <td>0.492091</td>\n",
       "    </tr>\n",
       "    <tr>\n",
       "      <th>1</th>\n",
       "      <td>0.029683</td>\n",
       "      <td>0.333192</td>\n",
       "      <td>0.960456</td>\n",
       "      <td>0.436233</td>\n",
       "      <td>0.680954</td>\n",
       "    </tr>\n",
       "    <tr>\n",
       "      <th>2</th>\n",
       "      <td>0.583523</td>\n",
       "      <td>0.621940</td>\n",
       "      <td>0.110303</td>\n",
       "      <td>0.420751</td>\n",
       "      <td>0.402851</td>\n",
       "    </tr>\n",
       "    <tr>\n",
       "      <th>3</th>\n",
       "      <td>0.057509</td>\n",
       "      <td>0.382840</td>\n",
       "      <td>0.314781</td>\n",
       "      <td>0.626836</td>\n",
       "      <td>0.809157</td>\n",
       "    </tr>\n",
       "    <tr>\n",
       "      <th>4</th>\n",
       "      <td>0.940898</td>\n",
       "      <td>0.122087</td>\n",
       "      <td>0.226713</td>\n",
       "      <td>0.265897</td>\n",
       "      <td>0.406339</td>\n",
       "    </tr>\n",
       "  </tbody>\n",
       "</table>\n",
       "</div>"
      ]
     },
     "metadata": {},
     "execution_count": 9
    }
   ],
   "metadata": {}
  },
  {
   "cell_type": "markdown",
   "source": [
    "3. Selecting the number of columns they want to plot (whole table or selected columns only):"
   ],
   "metadata": {}
  },
  {
   "cell_type": "code",
   "execution_count": 10,
   "source": [
    "print('What kind if plot you need, the complete data plot or columns plot')\n",
    "cat = input('Press 1 for plotting all columns or press 2 for specifying columns to plot')\n",
    "cat = int(cat)"
   ],
   "outputs": [
    {
     "output_type": "stream",
     "name": "stdout",
     "text": [
      "What kind if plot you need, the complete data plot or columns plot\n",
      "Press 1 for plotting all columns or press 2 for specifying columns to plot1\n"
     ]
    }
   ],
   "metadata": {
    "scrolled": true
   }
  },
  {
   "cell_type": "markdown",
   "source": [
    "4. Choosing the plot types:"
   ],
   "metadata": {}
  },
  {
   "cell_type": "code",
   "execution_count": 11,
   "source": [
    "main(cat)"
   ],
   "outputs": [
    {
     "output_type": "stream",
     "name": "stdout",
     "text": [
      "Select the type of plot you want to plot by writing 1 to 6\n",
      "1. Line Plot\n",
      "2. Scatter Plot\n",
      "3. Bar Plot\n",
      "4. Histogram\n",
      "5. Box Plot\n",
      "6. Surface Plot\n",
      "1\n"
     ]
    },
    {
     "output_type": "display_data",
     "data": {
      "text/html": [
       "<div>                            <div id=\"ccfd46e0-39e5-4795-9bd9-66f8fea88ee2\" class=\"plotly-graph-div\" style=\"height:525px; width:100%;\"></div>            <script type=\"text/javascript\">                require([\"plotly\"], function(Plotly) {                    window.PLOTLYENV=window.PLOTLYENV || {};\n",
       "                    window.PLOTLYENV.BASE_URL='https://plot.ly';                                    if (document.getElementById(\"ccfd46e0-39e5-4795-9bd9-66f8fea88ee2\")) {                    Plotly.newPlot(                        \"ccfd46e0-39e5-4795-9bd9-66f8fea88ee2\",                        [{\"line\":{\"color\":\"rgba(255, 153, 51, 1.0)\",\"dash\":\"solid\",\"shape\":\"linear\",\"width\":1.3},\"mode\":\"lines\",\"name\":\"A\",\"text\":\"\",\"type\":\"scatter\",\"x\":[0,1,2,3,4,5,6,7,8,9,10,11,12,13,14,15,16,17,18,19,20,21,22,23,24,25,26,27,28,29,30,31,32,33,34,35,36,37,38,39,40,41,42,43,44,45,46,47,48,49,50,51,52,53,54,55,56,57,58,59,60,61,62,63,64,65,66,67,68,69,70,71,72,73,74,75,76,77,78,79,80,81,82,83,84,85,86,87,88,89,90,91,92,93,94,95,96,97,98,99],\"y\":[0.3083564200971607,0.029683460351229707,0.5835226364398884,0.057508746346867534,0.9408981386766402,0.26951067480304114,0.1662328153832261,0.5418974476495193,0.2610304384836575,0.7391239167632521,0.8784576431962345,0.21420517014610885,0.9619578668529442,0.5156088964475738,0.08371925702291272,0.12433340880420818,0.040452719124034364,0.37281326877070764,0.6098772027508593,0.5944675661369012,0.16415947782110563,0.40241524654924155,0.6501260077032165,0.7008201380911278,0.573433810434547,0.2197875312449209,0.84530810528367,0.06467488586252357,0.8839219253019606,0.9616493736116558,0.9231551033844906,0.16154317086338255,0.16144989093777962,0.7596084661754392,0.968761581278119,0.6630945970271973,0.2353388996896416,0.006091040757189692,0.6112112514022359,0.5931166769855628,0.6723096543691381,0.4820253831101955,0.2723027389593248,0.26794426256286097,0.9903171211339626,0.43704892852587274,0.7862097545500517,0.8924225376967072,0.8880313319645732,0.6346829452888043,0.5764986569965364,0.3461588129379314,0.03658558623669572,0.5799891593442127,0.9163523708650883,0.360284614124472,0.8277716955572584,0.38714317061200965,0.2393422905559851,0.28974705086709107,0.21951224029607652,0.5481317501750758,0.6569646888888644,0.247135998546279,0.39496662189905063,0.16855169340785692,0.5777981551561674,0.615690241026097,0.04255450885193213,0.6160766328463115,0.4120982718532713,0.7441997806500369,0.3172967131224351,0.6591336978992585,0.4728551256385578,0.926928035041536,0.46848339940410366,0.4333075629451526,0.22556768114705128,0.06265132363164883,0.042557468601857384,0.9047748620737296,0.28102439282067027,0.6916407618106292,0.154912411542532,0.038347190355338956,0.818060897960896,0.9395916917731598,0.47932393382508776,0.7345863066243418,0.1109790468745826,0.70086792711245,0.3930254591128818,0.010524367023937109,0.4146730326658603,0.8962746110272479,0.4334523436875495,0.19858159602318692,0.9596958945244985,0.38149274531064226]},{\"line\":{\"color\":\"rgba(55, 128, 191, 1.0)\",\"dash\":\"solid\",\"shape\":\"linear\",\"width\":1.3},\"mode\":\"lines\",\"name\":\"B\",\"text\":\"\",\"type\":\"scatter\",\"x\":[0,1,2,3,4,5,6,7,8,9,10,11,12,13,14,15,16,17,18,19,20,21,22,23,24,25,26,27,28,29,30,31,32,33,34,35,36,37,38,39,40,41,42,43,44,45,46,47,48,49,50,51,52,53,54,55,56,57,58,59,60,61,62,63,64,65,66,67,68,69,70,71,72,73,74,75,76,77,78,79,80,81,82,83,84,85,86,87,88,89,90,91,92,93,94,95,96,97,98,99],\"y\":[0.13562857127729677,0.33319241365709884,0.6219403765198264,0.382840493943698,0.12208699331202033,0.3667417274036092,0.4069303543469893,0.39843442942842777,0.4441151874813615,0.8932110870508948,0.6030437095614344,0.9504067875871701,0.6585313920270284,0.8718861140893045,0.8156224954079196,0.25696511181729575,0.024082769318434227,0.30083757658073074,0.31072118427444617,0.5060009553994416,0.37729973431872355,0.03598584433689467,0.11626871877539546,0.5781499687842749,0.4554097695149094,0.6254444386459757,0.07339770669607215,0.27208034192628805,0.9176057390553543,0.404268470368902,0.9518849188496227,0.8300721384408646,0.09881171769728081,0.22092878697401208,0.03601862103688691,0.5046921970724645,0.5281005962497265,0.5254348827732827,0.7876045170974509,0.5146111242542374,0.7731646670730037,0.9048863264962257,0.5012352663977835,0.9071062011433852,0.2216951463024257,0.7152792586993743,0.26164640290890684,0.7964868747963185,0.7688212760649343,0.29000116856884695,0.698647401417498,0.09859431754880776,0.010006934518742683,0.06853058160876568,0.2033790741835383,0.267466111823906,0.5212027392254849,0.3373431479754754,0.6026573638261381,0.7232690244223302,0.40823496223444666,0.2634649297640286,0.4132300201243989,0.08515046265046156,0.251463296275943,0.5335950297402695,0.05711298626743799,0.3511709047677728,0.3256514110402914,0.07108258174465598,0.27139345281713334,0.4299842173264963,0.11351464954225754,0.9798072115773397,0.6419348496822628,0.7429175487529438,0.755956315880954,0.9632343426878701,0.35596583283247774,0.8585191104990959,0.6168755309895058,0.39288057378481545,0.874615775750139,0.8993936639775232,0.5844783352806858,0.6252099293816913,0.8394899156066742,0.08544486395288742,0.26723897369008176,0.5254440405813091,0.13329992840769966,0.28113762984211155,0.46531790630186165,0.7602470253563474,0.05367589513417892,0.7756883856064667,0.4583578563425753,0.7034132608867381,0.5450170405202333,0.4339517044982343]},{\"line\":{\"color\":\"rgba(50, 171, 96, 1.0)\",\"dash\":\"solid\",\"shape\":\"linear\",\"width\":1.3},\"mode\":\"lines\",\"name\":\"C\",\"text\":\"\",\"type\":\"scatter\",\"x\":[0,1,2,3,4,5,6,7,8,9,10,11,12,13,14,15,16,17,18,19,20,21,22,23,24,25,26,27,28,29,30,31,32,33,34,35,36,37,38,39,40,41,42,43,44,45,46,47,48,49,50,51,52,53,54,55,56,57,58,59,60,61,62,63,64,65,66,67,68,69,70,71,72,73,74,75,76,77,78,79,80,81,82,83,84,85,86,87,88,89,90,91,92,93,94,95,96,97,98,99],\"y\":[0.6090481920498004,0.9604559264141102,0.11030276028859276,0.314780932800369,0.22671290805924227,0.8016063214884002,0.9648328652847352,0.25295491362827593,0.6708697936850383,0.03985709231173218,0.32873379630902966,0.38627465534374616,0.4762489141237508,0.9029096611322653,0.33089677926837835,0.5643334386772183,0.7368566125148472,0.6872836848875212,0.7114232919021735,0.9918022302135536,0.5860565631228957,0.12671252825036528,0.7904838102223931,0.8679195514239636,0.5050248434238962,0.6854723153373291,0.225243113416298,0.13038354315392275,0.1429965868094084,0.11062746853360306,0.8528460906302594,0.6754157263566207,0.31719891116518084,0.5874312995782869,0.9543743074447677,0.49828741228427875,0.30566189667523624,0.9250324791207272,0.47737322257532644,0.17975589384771717,0.29814246082847007,0.22514855492370833,0.8244450199146557,0.016228780494372264,0.4336539925078662,0.5878326866145287,0.959680193762722,0.6078265293189021,0.1684594003194435,0.09536762411605859,0.8663667422437106,0.06093238619587327,0.9599452133992366,0.6333456540778061,0.24147640380359625,0.6444042508409655,0.08360392733606625,0.06730083656436292,0.7101699707871194,0.7021688098469252,0.5391204928271865,0.18272867244102398,0.5826692959988479,0.7174622699323657,0.26563185727947025,0.4641633767038046,0.5561705235347878,0.8945196659091172,0.9648676014446274,0.16171123930414333,0.455432412831252,0.8975894733483013,0.21457249637291176,0.3608794247009789,0.4245937306325741,0.06001837088812256,0.39164104235694064,0.42175007876612924,0.08714896377927883,0.6644238359853917,0.209628351639068,0.32583115457781153,0.5779590977995223,0.9081459392074566,0.2550108805625878,0.20386059308989135,0.2399569030073695,0.7342187495358447,0.2076244537501889,0.5606127600481322,0.08170297226646728,0.16766632499058376,0.10499892189347426,0.8749813032749758,0.9937300217890023,0.1591448924582327,0.510648453560755,0.7877638205724171,0.7306891907629656,0.55274168503987]},{\"line\":{\"color\":\"rgba(128, 0, 128, 1.0)\",\"dash\":\"solid\",\"shape\":\"linear\",\"width\":1.3},\"mode\":\"lines\",\"name\":\"D\",\"text\":\"\",\"type\":\"scatter\",\"x\":[0,1,2,3,4,5,6,7,8,9,10,11,12,13,14,15,16,17,18,19,20,21,22,23,24,25,26,27,28,29,30,31,32,33,34,35,36,37,38,39,40,41,42,43,44,45,46,47,48,49,50,51,52,53,54,55,56,57,58,59,60,61,62,63,64,65,66,67,68,69,70,71,72,73,74,75,76,77,78,79,80,81,82,83,84,85,86,87,88,89,90,91,92,93,94,95,96,97,98,99],\"y\":[0.540076525297952,0.43623275877677903,0.42075149241086984,0.626835717045554,0.26589720223106017,0.0034834855049494795,0.30345900588326247,0.19756074008870927,0.522163251680096,0.01616504695617027,0.018470337962106065,0.4250141161761729,0.9318462974812686,0.4153658315102974,0.9978908772619227,0.12061651519099592,0.8063079425150954,0.39163141627122955,0.19727145755847997,0.2671846877722487,0.6289219747062287,0.09678960871523656,0.7764495706657084,0.7147432808399888,0.34981712002297594,0.7656443842698315,0.22151184554474523,0.44208358531578906,0.5027471336166641,0.8840121052070209,0.9581002213062789,0.909157428602343,0.3444737890811924,0.12983257609812437,0.7014789958216232,0.08432834369140829,0.7774080105910844,0.5862055814031317,0.09188636041161802,0.13797385090680492,0.0334319537068164,0.41067575136960743,0.5819322716300878,0.737650440094483,0.23688230207262195,0.5381775012914216,0.24988878774475853,0.10731135685380522,0.2217952898473866,0.7317953742295316,0.830676347565923,0.1606709505941023,0.3728435092288963,0.6857064675822497,0.9886565041355215,0.3352771564590431,0.8393959967546394,0.46675042290589774,0.6275502865619491,0.7254409953848332,0.3660975173180332,0.7438180516645648,0.6499974245508998,0.9797620177309441,0.06223120632898582,0.24179873431410592,0.7078953723427934,0.9000724877831559,0.6904574512612571,0.5859726648971605,0.7890004387933734,0.3984450691722522,0.8004670048939602,0.5136372996772727,0.3374215711409323,0.6311644268530364,0.7650380993152781,0.9047593474675761,0.3716267796021627,0.7400382544836362,0.7748971248658095,0.12879312473168691,0.2593166151087948,0.8159263145775051,0.9207459463537069,0.5347033995924995,0.6722040602910512,0.6177867073820895,0.22023605035274418,0.3203501805237784,0.232782788948932,0.5627276598365107,0.8397407376382043,0.4620749514305086,0.598231092181928,0.9726725766789632,0.6975398479891051,0.6910664218420131,0.21812614972687616,0.7967863805099227]},{\"line\":{\"color\":\"rgba(219, 64, 82, 1.0)\",\"dash\":\"solid\",\"shape\":\"linear\",\"width\":1.3},\"mode\":\"lines\",\"name\":\"E\",\"text\":\"\",\"type\":\"scatter\",\"x\":[0,1,2,3,4,5,6,7,8,9,10,11,12,13,14,15,16,17,18,19,20,21,22,23,24,25,26,27,28,29,30,31,32,33,34,35,36,37,38,39,40,41,42,43,44,45,46,47,48,49,50,51,52,53,54,55,56,57,58,59,60,61,62,63,64,65,66,67,68,69,70,71,72,73,74,75,76,77,78,79,80,81,82,83,84,85,86,87,88,89,90,91,92,93,94,95,96,97,98,99],\"y\":[0.49209095118600654,0.6809541553658297,0.4028506298796536,0.809157458152885,0.4063388191507272,0.7568184877001284,0.6085786704379083,0.3124198211005027,0.9307238294062663,0.3722343984421119,0.3287299779497954,0.010029161286964516,0.1425199438157022,0.17451042738960465,0.770194050223482,0.30423934489594484,0.6985445006037325,0.34535308837292145,0.6129781471597531,0.720541636562548,0.2740110122632655,0.43770439319135646,0.7677851412289207,0.8481655466546841,0.11644883555565944,0.46984584966966436,0.35120107526093547,0.30425736099787304,0.09288792379540456,0.7698635739250674,0.28020461589437384,0.7404515042471278,0.3185453761747925,0.5162887807847195,0.8719334265968323,0.6860158746701921,0.05023768093090997,0.030785609179793116,0.9595432995261219,0.8366326995621295,0.030995210614877866,0.24276524602942762,0.06908276875609298,0.07158973335568974,0.5689899339875881,0.06161802959870788,0.8104787434161731,0.4386956152510715,0.8910357253465859,0.8592188919681145,0.34910316320016654,0.0889444807251959,0.43073132001290837,0.7402300338391784,0.6169757119297837,0.785743399569433,0.1807985353480993,0.09667247054633332,0.5281051900141699,0.13763443489184402,0.21663013270728093,0.5548929686751871,0.5666618311668137,0.9736407486775692,0.3104364858472919,0.41792684010590797,0.1774433333301072,0.7989785807868601,0.03353796139389986,0.5090446897380909,0.20159150071909604,0.07703541961260019,0.09237557511015004,0.8102039963637674,0.21722730787813582,0.999402921881413,0.1698671457511346,0.3633238733459391,0.38459909469544085,0.47041835397026976,0.9940084998175626,0.43044286229431017,0.8297783304658345,0.0346059955132717,0.012561956414136821,0.9239428418534669,0.9231525122489047,0.44343098846900064,0.03468407369274329,0.7906148058715233,0.4604865651588519,0.4157144415380295,0.20400826467145416,0.9951962773281092,0.1514726565095168,0.991638870493518,0.47586694146706143,0.7509632164942587,0.5403259128110943,0.12793469660227397]}],                        {\"legend\":{\"bgcolor\":\"#F5F6F9\",\"font\":{\"color\":\"#4D5663\"}},\"paper_bgcolor\":\"#F5F6F9\",\"plot_bgcolor\":\"#F5F6F9\",\"template\":{\"data\":{\"bar\":[{\"error_x\":{\"color\":\"#2a3f5f\"},\"error_y\":{\"color\":\"#2a3f5f\"},\"marker\":{\"line\":{\"color\":\"#E5ECF6\",\"width\":0.5},\"pattern\":{\"fillmode\":\"overlay\",\"size\":10,\"solidity\":0.2}},\"type\":\"bar\"}],\"barpolar\":[{\"marker\":{\"line\":{\"color\":\"#E5ECF6\",\"width\":0.5},\"pattern\":{\"fillmode\":\"overlay\",\"size\":10,\"solidity\":0.2}},\"type\":\"barpolar\"}],\"carpet\":[{\"aaxis\":{\"endlinecolor\":\"#2a3f5f\",\"gridcolor\":\"white\",\"linecolor\":\"white\",\"minorgridcolor\":\"white\",\"startlinecolor\":\"#2a3f5f\"},\"baxis\":{\"endlinecolor\":\"#2a3f5f\",\"gridcolor\":\"white\",\"linecolor\":\"white\",\"minorgridcolor\":\"white\",\"startlinecolor\":\"#2a3f5f\"},\"type\":\"carpet\"}],\"choropleth\":[{\"colorbar\":{\"outlinewidth\":0,\"ticks\":\"\"},\"type\":\"choropleth\"}],\"contour\":[{\"colorbar\":{\"outlinewidth\":0,\"ticks\":\"\"},\"colorscale\":[[0.0,\"#0d0887\"],[0.1111111111111111,\"#46039f\"],[0.2222222222222222,\"#7201a8\"],[0.3333333333333333,\"#9c179e\"],[0.4444444444444444,\"#bd3786\"],[0.5555555555555556,\"#d8576b\"],[0.6666666666666666,\"#ed7953\"],[0.7777777777777778,\"#fb9f3a\"],[0.8888888888888888,\"#fdca26\"],[1.0,\"#f0f921\"]],\"type\":\"contour\"}],\"contourcarpet\":[{\"colorbar\":{\"outlinewidth\":0,\"ticks\":\"\"},\"type\":\"contourcarpet\"}],\"heatmap\":[{\"colorbar\":{\"outlinewidth\":0,\"ticks\":\"\"},\"colorscale\":[[0.0,\"#0d0887\"],[0.1111111111111111,\"#46039f\"],[0.2222222222222222,\"#7201a8\"],[0.3333333333333333,\"#9c179e\"],[0.4444444444444444,\"#bd3786\"],[0.5555555555555556,\"#d8576b\"],[0.6666666666666666,\"#ed7953\"],[0.7777777777777778,\"#fb9f3a\"],[0.8888888888888888,\"#fdca26\"],[1.0,\"#f0f921\"]],\"type\":\"heatmap\"}],\"heatmapgl\":[{\"colorbar\":{\"outlinewidth\":0,\"ticks\":\"\"},\"colorscale\":[[0.0,\"#0d0887\"],[0.1111111111111111,\"#46039f\"],[0.2222222222222222,\"#7201a8\"],[0.3333333333333333,\"#9c179e\"],[0.4444444444444444,\"#bd3786\"],[0.5555555555555556,\"#d8576b\"],[0.6666666666666666,\"#ed7953\"],[0.7777777777777778,\"#fb9f3a\"],[0.8888888888888888,\"#fdca26\"],[1.0,\"#f0f921\"]],\"type\":\"heatmapgl\"}],\"histogram\":[{\"marker\":{\"pattern\":{\"fillmode\":\"overlay\",\"size\":10,\"solidity\":0.2}},\"type\":\"histogram\"}],\"histogram2d\":[{\"colorbar\":{\"outlinewidth\":0,\"ticks\":\"\"},\"colorscale\":[[0.0,\"#0d0887\"],[0.1111111111111111,\"#46039f\"],[0.2222222222222222,\"#7201a8\"],[0.3333333333333333,\"#9c179e\"],[0.4444444444444444,\"#bd3786\"],[0.5555555555555556,\"#d8576b\"],[0.6666666666666666,\"#ed7953\"],[0.7777777777777778,\"#fb9f3a\"],[0.8888888888888888,\"#fdca26\"],[1.0,\"#f0f921\"]],\"type\":\"histogram2d\"}],\"histogram2dcontour\":[{\"colorbar\":{\"outlinewidth\":0,\"ticks\":\"\"},\"colorscale\":[[0.0,\"#0d0887\"],[0.1111111111111111,\"#46039f\"],[0.2222222222222222,\"#7201a8\"],[0.3333333333333333,\"#9c179e\"],[0.4444444444444444,\"#bd3786\"],[0.5555555555555556,\"#d8576b\"],[0.6666666666666666,\"#ed7953\"],[0.7777777777777778,\"#fb9f3a\"],[0.8888888888888888,\"#fdca26\"],[1.0,\"#f0f921\"]],\"type\":\"histogram2dcontour\"}],\"mesh3d\":[{\"colorbar\":{\"outlinewidth\":0,\"ticks\":\"\"},\"type\":\"mesh3d\"}],\"parcoords\":[{\"line\":{\"colorbar\":{\"outlinewidth\":0,\"ticks\":\"\"}},\"type\":\"parcoords\"}],\"pie\":[{\"automargin\":true,\"type\":\"pie\"}],\"scatter\":[{\"marker\":{\"colorbar\":{\"outlinewidth\":0,\"ticks\":\"\"}},\"type\":\"scatter\"}],\"scatter3d\":[{\"line\":{\"colorbar\":{\"outlinewidth\":0,\"ticks\":\"\"}},\"marker\":{\"colorbar\":{\"outlinewidth\":0,\"ticks\":\"\"}},\"type\":\"scatter3d\"}],\"scattercarpet\":[{\"marker\":{\"colorbar\":{\"outlinewidth\":0,\"ticks\":\"\"}},\"type\":\"scattercarpet\"}],\"scattergeo\":[{\"marker\":{\"colorbar\":{\"outlinewidth\":0,\"ticks\":\"\"}},\"type\":\"scattergeo\"}],\"scattergl\":[{\"marker\":{\"colorbar\":{\"outlinewidth\":0,\"ticks\":\"\"}},\"type\":\"scattergl\"}],\"scattermapbox\":[{\"marker\":{\"colorbar\":{\"outlinewidth\":0,\"ticks\":\"\"}},\"type\":\"scattermapbox\"}],\"scatterpolar\":[{\"marker\":{\"colorbar\":{\"outlinewidth\":0,\"ticks\":\"\"}},\"type\":\"scatterpolar\"}],\"scatterpolargl\":[{\"marker\":{\"colorbar\":{\"outlinewidth\":0,\"ticks\":\"\"}},\"type\":\"scatterpolargl\"}],\"scatterternary\":[{\"marker\":{\"colorbar\":{\"outlinewidth\":0,\"ticks\":\"\"}},\"type\":\"scatterternary\"}],\"surface\":[{\"colorbar\":{\"outlinewidth\":0,\"ticks\":\"\"},\"colorscale\":[[0.0,\"#0d0887\"],[0.1111111111111111,\"#46039f\"],[0.2222222222222222,\"#7201a8\"],[0.3333333333333333,\"#9c179e\"],[0.4444444444444444,\"#bd3786\"],[0.5555555555555556,\"#d8576b\"],[0.6666666666666666,\"#ed7953\"],[0.7777777777777778,\"#fb9f3a\"],[0.8888888888888888,\"#fdca26\"],[1.0,\"#f0f921\"]],\"type\":\"surface\"}],\"table\":[{\"cells\":{\"fill\":{\"color\":\"#EBF0F8\"},\"line\":{\"color\":\"white\"}},\"header\":{\"fill\":{\"color\":\"#C8D4E3\"},\"line\":{\"color\":\"white\"}},\"type\":\"table\"}]},\"layout\":{\"annotationdefaults\":{\"arrowcolor\":\"#2a3f5f\",\"arrowhead\":0,\"arrowwidth\":1},\"autotypenumbers\":\"strict\",\"coloraxis\":{\"colorbar\":{\"outlinewidth\":0,\"ticks\":\"\"}},\"colorscale\":{\"diverging\":[[0,\"#8e0152\"],[0.1,\"#c51b7d\"],[0.2,\"#de77ae\"],[0.3,\"#f1b6da\"],[0.4,\"#fde0ef\"],[0.5,\"#f7f7f7\"],[0.6,\"#e6f5d0\"],[0.7,\"#b8e186\"],[0.8,\"#7fbc41\"],[0.9,\"#4d9221\"],[1,\"#276419\"]],\"sequential\":[[0.0,\"#0d0887\"],[0.1111111111111111,\"#46039f\"],[0.2222222222222222,\"#7201a8\"],[0.3333333333333333,\"#9c179e\"],[0.4444444444444444,\"#bd3786\"],[0.5555555555555556,\"#d8576b\"],[0.6666666666666666,\"#ed7953\"],[0.7777777777777778,\"#fb9f3a\"],[0.8888888888888888,\"#fdca26\"],[1.0,\"#f0f921\"]],\"sequentialminus\":[[0.0,\"#0d0887\"],[0.1111111111111111,\"#46039f\"],[0.2222222222222222,\"#7201a8\"],[0.3333333333333333,\"#9c179e\"],[0.4444444444444444,\"#bd3786\"],[0.5555555555555556,\"#d8576b\"],[0.6666666666666666,\"#ed7953\"],[0.7777777777777778,\"#fb9f3a\"],[0.8888888888888888,\"#fdca26\"],[1.0,\"#f0f921\"]]},\"colorway\":[\"#636efa\",\"#EF553B\",\"#00cc96\",\"#ab63fa\",\"#FFA15A\",\"#19d3f3\",\"#FF6692\",\"#B6E880\",\"#FF97FF\",\"#FECB52\"],\"font\":{\"color\":\"#2a3f5f\"},\"geo\":{\"bgcolor\":\"white\",\"lakecolor\":\"white\",\"landcolor\":\"#E5ECF6\",\"showlakes\":true,\"showland\":true,\"subunitcolor\":\"white\"},\"hoverlabel\":{\"align\":\"left\"},\"hovermode\":\"closest\",\"mapbox\":{\"style\":\"light\"},\"paper_bgcolor\":\"white\",\"plot_bgcolor\":\"#E5ECF6\",\"polar\":{\"angularaxis\":{\"gridcolor\":\"white\",\"linecolor\":\"white\",\"ticks\":\"\"},\"bgcolor\":\"#E5ECF6\",\"radialaxis\":{\"gridcolor\":\"white\",\"linecolor\":\"white\",\"ticks\":\"\"}},\"scene\":{\"xaxis\":{\"backgroundcolor\":\"#E5ECF6\",\"gridcolor\":\"white\",\"gridwidth\":2,\"linecolor\":\"white\",\"showbackground\":true,\"ticks\":\"\",\"zerolinecolor\":\"white\"},\"yaxis\":{\"backgroundcolor\":\"#E5ECF6\",\"gridcolor\":\"white\",\"gridwidth\":2,\"linecolor\":\"white\",\"showbackground\":true,\"ticks\":\"\",\"zerolinecolor\":\"white\"},\"zaxis\":{\"backgroundcolor\":\"#E5ECF6\",\"gridcolor\":\"white\",\"gridwidth\":2,\"linecolor\":\"white\",\"showbackground\":true,\"ticks\":\"\",\"zerolinecolor\":\"white\"}},\"shapedefaults\":{\"line\":{\"color\":\"#2a3f5f\"}},\"ternary\":{\"aaxis\":{\"gridcolor\":\"white\",\"linecolor\":\"white\",\"ticks\":\"\"},\"baxis\":{\"gridcolor\":\"white\",\"linecolor\":\"white\",\"ticks\":\"\"},\"bgcolor\":\"#E5ECF6\",\"caxis\":{\"gridcolor\":\"white\",\"linecolor\":\"white\",\"ticks\":\"\"}},\"title\":{\"x\":0.05},\"xaxis\":{\"automargin\":true,\"gridcolor\":\"white\",\"linecolor\":\"white\",\"ticks\":\"\",\"title\":{\"standoff\":15},\"zerolinecolor\":\"white\",\"zerolinewidth\":2},\"yaxis\":{\"automargin\":true,\"gridcolor\":\"white\",\"linecolor\":\"white\",\"ticks\":\"\",\"title\":{\"standoff\":15},\"zerolinecolor\":\"white\",\"zerolinewidth\":2}}},\"title\":{\"font\":{\"color\":\"#4D5663\"}},\"xaxis\":{\"gridcolor\":\"#E1E5ED\",\"showgrid\":true,\"tickfont\":{\"color\":\"#4D5663\"},\"title\":{\"font\":{\"color\":\"#4D5663\"},\"text\":\"\"},\"zerolinecolor\":\"#E1E5ED\"},\"yaxis\":{\"gridcolor\":\"#E1E5ED\",\"showgrid\":true,\"tickfont\":{\"color\":\"#4D5663\"},\"title\":{\"font\":{\"color\":\"#4D5663\"},\"text\":\"\"},\"zerolinecolor\":\"#E1E5ED\"}},                        {\"showLink\": true, \"linkText\": \"Export to plot.ly\", \"plotlyServerURL\": \"https://plot.ly\", \"responsive\": true}                    ).then(function(){\n",
       "                            \n",
       "var gd = document.getElementById('ccfd46e0-39e5-4795-9bd9-66f8fea88ee2');\n",
       "var x = new MutationObserver(function (mutations, observer) {{\n",
       "        var display = window.getComputedStyle(gd).display;\n",
       "        if (!display || display === 'none') {{\n",
       "            console.log([gd, 'removed!']);\n",
       "            Plotly.purge(gd);\n",
       "            observer.disconnect();\n",
       "        }}\n",
       "}});\n",
       "\n",
       "// Listen for the removal of the full notebook cells\n",
       "var notebookContainer = gd.closest('#notebook-container');\n",
       "if (notebookContainer) {{\n",
       "    x.observe(notebookContainer, {childList: true});\n",
       "}}\n",
       "\n",
       "// Listen for the clearing of the current output cell\n",
       "var outputEl = gd.closest('.output');\n",
       "if (outputEl) {{\n",
       "    x.observe(outputEl, {childList: true});\n",
       "}}\n",
       "\n",
       "                        })                };                });            </script>        </div>"
      ],
      "application/vnd.plotly.v1+json": {
       "config": {
        "linkText": "Export to plot.ly",
        "plotlyServerURL": "https://plot.ly",
        "showLink": true
       },
       "data": [
        {
         "line": {
          "color": "rgba(255, 153, 51, 1.0)",
          "dash": "solid",
          "shape": "linear",
          "width": 1.3
         },
         "mode": "lines",
         "name": "A",
         "text": "",
         "type": "scatter",
         "x": [
          0,
          1,
          2,
          3,
          4,
          5,
          6,
          7,
          8,
          9,
          10,
          11,
          12,
          13,
          14,
          15,
          16,
          17,
          18,
          19,
          20,
          21,
          22,
          23,
          24,
          25,
          26,
          27,
          28,
          29,
          30,
          31,
          32,
          33,
          34,
          35,
          36,
          37,
          38,
          39,
          40,
          41,
          42,
          43,
          44,
          45,
          46,
          47,
          48,
          49,
          50,
          51,
          52,
          53,
          54,
          55,
          56,
          57,
          58,
          59,
          60,
          61,
          62,
          63,
          64,
          65,
          66,
          67,
          68,
          69,
          70,
          71,
          72,
          73,
          74,
          75,
          76,
          77,
          78,
          79,
          80,
          81,
          82,
          83,
          84,
          85,
          86,
          87,
          88,
          89,
          90,
          91,
          92,
          93,
          94,
          95,
          96,
          97,
          98,
          99
         ],
         "y": [
          0.3083564200971607,
          0.029683460351229707,
          0.5835226364398884,
          0.057508746346867534,
          0.9408981386766402,
          0.26951067480304114,
          0.1662328153832261,
          0.5418974476495193,
          0.2610304384836575,
          0.7391239167632521,
          0.8784576431962345,
          0.21420517014610885,
          0.9619578668529442,
          0.5156088964475738,
          0.08371925702291272,
          0.12433340880420818,
          0.040452719124034364,
          0.37281326877070764,
          0.6098772027508593,
          0.5944675661369012,
          0.16415947782110563,
          0.40241524654924155,
          0.6501260077032165,
          0.7008201380911278,
          0.573433810434547,
          0.2197875312449209,
          0.84530810528367,
          0.06467488586252357,
          0.8839219253019606,
          0.9616493736116558,
          0.9231551033844906,
          0.16154317086338255,
          0.16144989093777962,
          0.7596084661754392,
          0.968761581278119,
          0.6630945970271973,
          0.2353388996896416,
          0.006091040757189692,
          0.6112112514022359,
          0.5931166769855628,
          0.6723096543691381,
          0.4820253831101955,
          0.2723027389593248,
          0.26794426256286097,
          0.9903171211339626,
          0.43704892852587274,
          0.7862097545500517,
          0.8924225376967072,
          0.8880313319645732,
          0.6346829452888043,
          0.5764986569965364,
          0.3461588129379314,
          0.03658558623669572,
          0.5799891593442127,
          0.9163523708650883,
          0.360284614124472,
          0.8277716955572584,
          0.38714317061200965,
          0.2393422905559851,
          0.28974705086709107,
          0.21951224029607652,
          0.5481317501750758,
          0.6569646888888644,
          0.247135998546279,
          0.39496662189905063,
          0.16855169340785692,
          0.5777981551561674,
          0.615690241026097,
          0.04255450885193213,
          0.6160766328463115,
          0.4120982718532713,
          0.7441997806500369,
          0.3172967131224351,
          0.6591336978992585,
          0.4728551256385578,
          0.926928035041536,
          0.46848339940410366,
          0.4333075629451526,
          0.22556768114705128,
          0.06265132363164883,
          0.042557468601857384,
          0.9047748620737296,
          0.28102439282067027,
          0.6916407618106292,
          0.154912411542532,
          0.038347190355338956,
          0.818060897960896,
          0.9395916917731598,
          0.47932393382508776,
          0.7345863066243418,
          0.1109790468745826,
          0.70086792711245,
          0.3930254591128818,
          0.010524367023937109,
          0.4146730326658603,
          0.8962746110272479,
          0.4334523436875495,
          0.19858159602318692,
          0.9596958945244985,
          0.38149274531064226
         ]
        },
        {
         "line": {
          "color": "rgba(55, 128, 191, 1.0)",
          "dash": "solid",
          "shape": "linear",
          "width": 1.3
         },
         "mode": "lines",
         "name": "B",
         "text": "",
         "type": "scatter",
         "x": [
          0,
          1,
          2,
          3,
          4,
          5,
          6,
          7,
          8,
          9,
          10,
          11,
          12,
          13,
          14,
          15,
          16,
          17,
          18,
          19,
          20,
          21,
          22,
          23,
          24,
          25,
          26,
          27,
          28,
          29,
          30,
          31,
          32,
          33,
          34,
          35,
          36,
          37,
          38,
          39,
          40,
          41,
          42,
          43,
          44,
          45,
          46,
          47,
          48,
          49,
          50,
          51,
          52,
          53,
          54,
          55,
          56,
          57,
          58,
          59,
          60,
          61,
          62,
          63,
          64,
          65,
          66,
          67,
          68,
          69,
          70,
          71,
          72,
          73,
          74,
          75,
          76,
          77,
          78,
          79,
          80,
          81,
          82,
          83,
          84,
          85,
          86,
          87,
          88,
          89,
          90,
          91,
          92,
          93,
          94,
          95,
          96,
          97,
          98,
          99
         ],
         "y": [
          0.13562857127729677,
          0.33319241365709884,
          0.6219403765198264,
          0.382840493943698,
          0.12208699331202033,
          0.3667417274036092,
          0.4069303543469893,
          0.39843442942842777,
          0.4441151874813615,
          0.8932110870508948,
          0.6030437095614344,
          0.9504067875871701,
          0.6585313920270284,
          0.8718861140893045,
          0.8156224954079196,
          0.25696511181729575,
          0.024082769318434227,
          0.30083757658073074,
          0.31072118427444617,
          0.5060009553994416,
          0.37729973431872355,
          0.03598584433689467,
          0.11626871877539546,
          0.5781499687842749,
          0.4554097695149094,
          0.6254444386459757,
          0.07339770669607215,
          0.27208034192628805,
          0.9176057390553543,
          0.404268470368902,
          0.9518849188496227,
          0.8300721384408646,
          0.09881171769728081,
          0.22092878697401208,
          0.03601862103688691,
          0.5046921970724645,
          0.5281005962497265,
          0.5254348827732827,
          0.7876045170974509,
          0.5146111242542374,
          0.7731646670730037,
          0.9048863264962257,
          0.5012352663977835,
          0.9071062011433852,
          0.2216951463024257,
          0.7152792586993743,
          0.26164640290890684,
          0.7964868747963185,
          0.7688212760649343,
          0.29000116856884695,
          0.698647401417498,
          0.09859431754880776,
          0.010006934518742683,
          0.06853058160876568,
          0.2033790741835383,
          0.267466111823906,
          0.5212027392254849,
          0.3373431479754754,
          0.6026573638261381,
          0.7232690244223302,
          0.40823496223444666,
          0.2634649297640286,
          0.4132300201243989,
          0.08515046265046156,
          0.251463296275943,
          0.5335950297402695,
          0.05711298626743799,
          0.3511709047677728,
          0.3256514110402914,
          0.07108258174465598,
          0.27139345281713334,
          0.4299842173264963,
          0.11351464954225754,
          0.9798072115773397,
          0.6419348496822628,
          0.7429175487529438,
          0.755956315880954,
          0.9632343426878701,
          0.35596583283247774,
          0.8585191104990959,
          0.6168755309895058,
          0.39288057378481545,
          0.874615775750139,
          0.8993936639775232,
          0.5844783352806858,
          0.6252099293816913,
          0.8394899156066742,
          0.08544486395288742,
          0.26723897369008176,
          0.5254440405813091,
          0.13329992840769966,
          0.28113762984211155,
          0.46531790630186165,
          0.7602470253563474,
          0.05367589513417892,
          0.7756883856064667,
          0.4583578563425753,
          0.7034132608867381,
          0.5450170405202333,
          0.4339517044982343
         ]
        },
        {
         "line": {
          "color": "rgba(50, 171, 96, 1.0)",
          "dash": "solid",
          "shape": "linear",
          "width": 1.3
         },
         "mode": "lines",
         "name": "C",
         "text": "",
         "type": "scatter",
         "x": [
          0,
          1,
          2,
          3,
          4,
          5,
          6,
          7,
          8,
          9,
          10,
          11,
          12,
          13,
          14,
          15,
          16,
          17,
          18,
          19,
          20,
          21,
          22,
          23,
          24,
          25,
          26,
          27,
          28,
          29,
          30,
          31,
          32,
          33,
          34,
          35,
          36,
          37,
          38,
          39,
          40,
          41,
          42,
          43,
          44,
          45,
          46,
          47,
          48,
          49,
          50,
          51,
          52,
          53,
          54,
          55,
          56,
          57,
          58,
          59,
          60,
          61,
          62,
          63,
          64,
          65,
          66,
          67,
          68,
          69,
          70,
          71,
          72,
          73,
          74,
          75,
          76,
          77,
          78,
          79,
          80,
          81,
          82,
          83,
          84,
          85,
          86,
          87,
          88,
          89,
          90,
          91,
          92,
          93,
          94,
          95,
          96,
          97,
          98,
          99
         ],
         "y": [
          0.6090481920498004,
          0.9604559264141102,
          0.11030276028859276,
          0.314780932800369,
          0.22671290805924227,
          0.8016063214884002,
          0.9648328652847352,
          0.25295491362827593,
          0.6708697936850383,
          0.03985709231173218,
          0.32873379630902966,
          0.38627465534374616,
          0.4762489141237508,
          0.9029096611322653,
          0.33089677926837835,
          0.5643334386772183,
          0.7368566125148472,
          0.6872836848875212,
          0.7114232919021735,
          0.9918022302135536,
          0.5860565631228957,
          0.12671252825036528,
          0.7904838102223931,
          0.8679195514239636,
          0.5050248434238962,
          0.6854723153373291,
          0.225243113416298,
          0.13038354315392275,
          0.1429965868094084,
          0.11062746853360306,
          0.8528460906302594,
          0.6754157263566207,
          0.31719891116518084,
          0.5874312995782869,
          0.9543743074447677,
          0.49828741228427875,
          0.30566189667523624,
          0.9250324791207272,
          0.47737322257532644,
          0.17975589384771717,
          0.29814246082847007,
          0.22514855492370833,
          0.8244450199146557,
          0.016228780494372264,
          0.4336539925078662,
          0.5878326866145287,
          0.959680193762722,
          0.6078265293189021,
          0.1684594003194435,
          0.09536762411605859,
          0.8663667422437106,
          0.06093238619587327,
          0.9599452133992366,
          0.6333456540778061,
          0.24147640380359625,
          0.6444042508409655,
          0.08360392733606625,
          0.06730083656436292,
          0.7101699707871194,
          0.7021688098469252,
          0.5391204928271865,
          0.18272867244102398,
          0.5826692959988479,
          0.7174622699323657,
          0.26563185727947025,
          0.4641633767038046,
          0.5561705235347878,
          0.8945196659091172,
          0.9648676014446274,
          0.16171123930414333,
          0.455432412831252,
          0.8975894733483013,
          0.21457249637291176,
          0.3608794247009789,
          0.4245937306325741,
          0.06001837088812256,
          0.39164104235694064,
          0.42175007876612924,
          0.08714896377927883,
          0.6644238359853917,
          0.209628351639068,
          0.32583115457781153,
          0.5779590977995223,
          0.9081459392074566,
          0.2550108805625878,
          0.20386059308989135,
          0.2399569030073695,
          0.7342187495358447,
          0.2076244537501889,
          0.5606127600481322,
          0.08170297226646728,
          0.16766632499058376,
          0.10499892189347426,
          0.8749813032749758,
          0.9937300217890023,
          0.1591448924582327,
          0.510648453560755,
          0.7877638205724171,
          0.7306891907629656,
          0.55274168503987
         ]
        },
        {
         "line": {
          "color": "rgba(128, 0, 128, 1.0)",
          "dash": "solid",
          "shape": "linear",
          "width": 1.3
         },
         "mode": "lines",
         "name": "D",
         "text": "",
         "type": "scatter",
         "x": [
          0,
          1,
          2,
          3,
          4,
          5,
          6,
          7,
          8,
          9,
          10,
          11,
          12,
          13,
          14,
          15,
          16,
          17,
          18,
          19,
          20,
          21,
          22,
          23,
          24,
          25,
          26,
          27,
          28,
          29,
          30,
          31,
          32,
          33,
          34,
          35,
          36,
          37,
          38,
          39,
          40,
          41,
          42,
          43,
          44,
          45,
          46,
          47,
          48,
          49,
          50,
          51,
          52,
          53,
          54,
          55,
          56,
          57,
          58,
          59,
          60,
          61,
          62,
          63,
          64,
          65,
          66,
          67,
          68,
          69,
          70,
          71,
          72,
          73,
          74,
          75,
          76,
          77,
          78,
          79,
          80,
          81,
          82,
          83,
          84,
          85,
          86,
          87,
          88,
          89,
          90,
          91,
          92,
          93,
          94,
          95,
          96,
          97,
          98,
          99
         ],
         "y": [
          0.540076525297952,
          0.43623275877677903,
          0.42075149241086984,
          0.626835717045554,
          0.26589720223106017,
          0.0034834855049494795,
          0.30345900588326247,
          0.19756074008870927,
          0.522163251680096,
          0.01616504695617027,
          0.018470337962106065,
          0.4250141161761729,
          0.9318462974812686,
          0.4153658315102974,
          0.9978908772619227,
          0.12061651519099592,
          0.8063079425150954,
          0.39163141627122955,
          0.19727145755847997,
          0.2671846877722487,
          0.6289219747062287,
          0.09678960871523656,
          0.7764495706657084,
          0.7147432808399888,
          0.34981712002297594,
          0.7656443842698315,
          0.22151184554474523,
          0.44208358531578906,
          0.5027471336166641,
          0.8840121052070209,
          0.9581002213062789,
          0.909157428602343,
          0.3444737890811924,
          0.12983257609812437,
          0.7014789958216232,
          0.08432834369140829,
          0.7774080105910844,
          0.5862055814031317,
          0.09188636041161802,
          0.13797385090680492,
          0.0334319537068164,
          0.41067575136960743,
          0.5819322716300878,
          0.737650440094483,
          0.23688230207262195,
          0.5381775012914216,
          0.24988878774475853,
          0.10731135685380522,
          0.2217952898473866,
          0.7317953742295316,
          0.830676347565923,
          0.1606709505941023,
          0.3728435092288963,
          0.6857064675822497,
          0.9886565041355215,
          0.3352771564590431,
          0.8393959967546394,
          0.46675042290589774,
          0.6275502865619491,
          0.7254409953848332,
          0.3660975173180332,
          0.7438180516645648,
          0.6499974245508998,
          0.9797620177309441,
          0.06223120632898582,
          0.24179873431410592,
          0.7078953723427934,
          0.9000724877831559,
          0.6904574512612571,
          0.5859726648971605,
          0.7890004387933734,
          0.3984450691722522,
          0.8004670048939602,
          0.5136372996772727,
          0.3374215711409323,
          0.6311644268530364,
          0.7650380993152781,
          0.9047593474675761,
          0.3716267796021627,
          0.7400382544836362,
          0.7748971248658095,
          0.12879312473168691,
          0.2593166151087948,
          0.8159263145775051,
          0.9207459463537069,
          0.5347033995924995,
          0.6722040602910512,
          0.6177867073820895,
          0.22023605035274418,
          0.3203501805237784,
          0.232782788948932,
          0.5627276598365107,
          0.8397407376382043,
          0.4620749514305086,
          0.598231092181928,
          0.9726725766789632,
          0.6975398479891051,
          0.6910664218420131,
          0.21812614972687616,
          0.7967863805099227
         ]
        },
        {
         "line": {
          "color": "rgba(219, 64, 82, 1.0)",
          "dash": "solid",
          "shape": "linear",
          "width": 1.3
         },
         "mode": "lines",
         "name": "E",
         "text": "",
         "type": "scatter",
         "x": [
          0,
          1,
          2,
          3,
          4,
          5,
          6,
          7,
          8,
          9,
          10,
          11,
          12,
          13,
          14,
          15,
          16,
          17,
          18,
          19,
          20,
          21,
          22,
          23,
          24,
          25,
          26,
          27,
          28,
          29,
          30,
          31,
          32,
          33,
          34,
          35,
          36,
          37,
          38,
          39,
          40,
          41,
          42,
          43,
          44,
          45,
          46,
          47,
          48,
          49,
          50,
          51,
          52,
          53,
          54,
          55,
          56,
          57,
          58,
          59,
          60,
          61,
          62,
          63,
          64,
          65,
          66,
          67,
          68,
          69,
          70,
          71,
          72,
          73,
          74,
          75,
          76,
          77,
          78,
          79,
          80,
          81,
          82,
          83,
          84,
          85,
          86,
          87,
          88,
          89,
          90,
          91,
          92,
          93,
          94,
          95,
          96,
          97,
          98,
          99
         ],
         "y": [
          0.49209095118600654,
          0.6809541553658297,
          0.4028506298796536,
          0.809157458152885,
          0.4063388191507272,
          0.7568184877001284,
          0.6085786704379083,
          0.3124198211005027,
          0.9307238294062663,
          0.3722343984421119,
          0.3287299779497954,
          0.010029161286964516,
          0.1425199438157022,
          0.17451042738960465,
          0.770194050223482,
          0.30423934489594484,
          0.6985445006037325,
          0.34535308837292145,
          0.6129781471597531,
          0.720541636562548,
          0.2740110122632655,
          0.43770439319135646,
          0.7677851412289207,
          0.8481655466546841,
          0.11644883555565944,
          0.46984584966966436,
          0.35120107526093547,
          0.30425736099787304,
          0.09288792379540456,
          0.7698635739250674,
          0.28020461589437384,
          0.7404515042471278,
          0.3185453761747925,
          0.5162887807847195,
          0.8719334265968323,
          0.6860158746701921,
          0.05023768093090997,
          0.030785609179793116,
          0.9595432995261219,
          0.8366326995621295,
          0.030995210614877866,
          0.24276524602942762,
          0.06908276875609298,
          0.07158973335568974,
          0.5689899339875881,
          0.06161802959870788,
          0.8104787434161731,
          0.4386956152510715,
          0.8910357253465859,
          0.8592188919681145,
          0.34910316320016654,
          0.0889444807251959,
          0.43073132001290837,
          0.7402300338391784,
          0.6169757119297837,
          0.785743399569433,
          0.1807985353480993,
          0.09667247054633332,
          0.5281051900141699,
          0.13763443489184402,
          0.21663013270728093,
          0.5548929686751871,
          0.5666618311668137,
          0.9736407486775692,
          0.3104364858472919,
          0.41792684010590797,
          0.1774433333301072,
          0.7989785807868601,
          0.03353796139389986,
          0.5090446897380909,
          0.20159150071909604,
          0.07703541961260019,
          0.09237557511015004,
          0.8102039963637674,
          0.21722730787813582,
          0.999402921881413,
          0.1698671457511346,
          0.3633238733459391,
          0.38459909469544085,
          0.47041835397026976,
          0.9940084998175626,
          0.43044286229431017,
          0.8297783304658345,
          0.0346059955132717,
          0.012561956414136821,
          0.9239428418534669,
          0.9231525122489047,
          0.44343098846900064,
          0.03468407369274329,
          0.7906148058715233,
          0.4604865651588519,
          0.4157144415380295,
          0.20400826467145416,
          0.9951962773281092,
          0.1514726565095168,
          0.991638870493518,
          0.47586694146706143,
          0.7509632164942587,
          0.5403259128110943,
          0.12793469660227397
         ]
        }
       ],
       "layout": {
        "legend": {
         "bgcolor": "#F5F6F9",
         "font": {
          "color": "#4D5663"
         }
        },
        "paper_bgcolor": "#F5F6F9",
        "plot_bgcolor": "#F5F6F9",
        "template": {
         "data": {
          "bar": [
           {
            "error_x": {
             "color": "#2a3f5f"
            },
            "error_y": {
             "color": "#2a3f5f"
            },
            "marker": {
             "line": {
              "color": "#E5ECF6",
              "width": 0.5
             },
             "pattern": {
              "fillmode": "overlay",
              "size": 10,
              "solidity": 0.2
             }
            },
            "type": "bar"
           }
          ],
          "barpolar": [
           {
            "marker": {
             "line": {
              "color": "#E5ECF6",
              "width": 0.5
             },
             "pattern": {
              "fillmode": "overlay",
              "size": 10,
              "solidity": 0.2
             }
            },
            "type": "barpolar"
           }
          ],
          "carpet": [
           {
            "aaxis": {
             "endlinecolor": "#2a3f5f",
             "gridcolor": "white",
             "linecolor": "white",
             "minorgridcolor": "white",
             "startlinecolor": "#2a3f5f"
            },
            "baxis": {
             "endlinecolor": "#2a3f5f",
             "gridcolor": "white",
             "linecolor": "white",
             "minorgridcolor": "white",
             "startlinecolor": "#2a3f5f"
            },
            "type": "carpet"
           }
          ],
          "choropleth": [
           {
            "colorbar": {
             "outlinewidth": 0,
             "ticks": ""
            },
            "type": "choropleth"
           }
          ],
          "contour": [
           {
            "colorbar": {
             "outlinewidth": 0,
             "ticks": ""
            },
            "colorscale": [
             [
              0,
              "#0d0887"
             ],
             [
              0.1111111111111111,
              "#46039f"
             ],
             [
              0.2222222222222222,
              "#7201a8"
             ],
             [
              0.3333333333333333,
              "#9c179e"
             ],
             [
              0.4444444444444444,
              "#bd3786"
             ],
             [
              0.5555555555555556,
              "#d8576b"
             ],
             [
              0.6666666666666666,
              "#ed7953"
             ],
             [
              0.7777777777777778,
              "#fb9f3a"
             ],
             [
              0.8888888888888888,
              "#fdca26"
             ],
             [
              1,
              "#f0f921"
             ]
            ],
            "type": "contour"
           }
          ],
          "contourcarpet": [
           {
            "colorbar": {
             "outlinewidth": 0,
             "ticks": ""
            },
            "type": "contourcarpet"
           }
          ],
          "heatmap": [
           {
            "colorbar": {
             "outlinewidth": 0,
             "ticks": ""
            },
            "colorscale": [
             [
              0,
              "#0d0887"
             ],
             [
              0.1111111111111111,
              "#46039f"
             ],
             [
              0.2222222222222222,
              "#7201a8"
             ],
             [
              0.3333333333333333,
              "#9c179e"
             ],
             [
              0.4444444444444444,
              "#bd3786"
             ],
             [
              0.5555555555555556,
              "#d8576b"
             ],
             [
              0.6666666666666666,
              "#ed7953"
             ],
             [
              0.7777777777777778,
              "#fb9f3a"
             ],
             [
              0.8888888888888888,
              "#fdca26"
             ],
             [
              1,
              "#f0f921"
             ]
            ],
            "type": "heatmap"
           }
          ],
          "heatmapgl": [
           {
            "colorbar": {
             "outlinewidth": 0,
             "ticks": ""
            },
            "colorscale": [
             [
              0,
              "#0d0887"
             ],
             [
              0.1111111111111111,
              "#46039f"
             ],
             [
              0.2222222222222222,
              "#7201a8"
             ],
             [
              0.3333333333333333,
              "#9c179e"
             ],
             [
              0.4444444444444444,
              "#bd3786"
             ],
             [
              0.5555555555555556,
              "#d8576b"
             ],
             [
              0.6666666666666666,
              "#ed7953"
             ],
             [
              0.7777777777777778,
              "#fb9f3a"
             ],
             [
              0.8888888888888888,
              "#fdca26"
             ],
             [
              1,
              "#f0f921"
             ]
            ],
            "type": "heatmapgl"
           }
          ],
          "histogram": [
           {
            "marker": {
             "pattern": {
              "fillmode": "overlay",
              "size": 10,
              "solidity": 0.2
             }
            },
            "type": "histogram"
           }
          ],
          "histogram2d": [
           {
            "colorbar": {
             "outlinewidth": 0,
             "ticks": ""
            },
            "colorscale": [
             [
              0,
              "#0d0887"
             ],
             [
              0.1111111111111111,
              "#46039f"
             ],
             [
              0.2222222222222222,
              "#7201a8"
             ],
             [
              0.3333333333333333,
              "#9c179e"
             ],
             [
              0.4444444444444444,
              "#bd3786"
             ],
             [
              0.5555555555555556,
              "#d8576b"
             ],
             [
              0.6666666666666666,
              "#ed7953"
             ],
             [
              0.7777777777777778,
              "#fb9f3a"
             ],
             [
              0.8888888888888888,
              "#fdca26"
             ],
             [
              1,
              "#f0f921"
             ]
            ],
            "type": "histogram2d"
           }
          ],
          "histogram2dcontour": [
           {
            "colorbar": {
             "outlinewidth": 0,
             "ticks": ""
            },
            "colorscale": [
             [
              0,
              "#0d0887"
             ],
             [
              0.1111111111111111,
              "#46039f"
             ],
             [
              0.2222222222222222,
              "#7201a8"
             ],
             [
              0.3333333333333333,
              "#9c179e"
             ],
             [
              0.4444444444444444,
              "#bd3786"
             ],
             [
              0.5555555555555556,
              "#d8576b"
             ],
             [
              0.6666666666666666,
              "#ed7953"
             ],
             [
              0.7777777777777778,
              "#fb9f3a"
             ],
             [
              0.8888888888888888,
              "#fdca26"
             ],
             [
              1,
              "#f0f921"
             ]
            ],
            "type": "histogram2dcontour"
           }
          ],
          "mesh3d": [
           {
            "colorbar": {
             "outlinewidth": 0,
             "ticks": ""
            },
            "type": "mesh3d"
           }
          ],
          "parcoords": [
           {
            "line": {
             "colorbar": {
              "outlinewidth": 0,
              "ticks": ""
             }
            },
            "type": "parcoords"
           }
          ],
          "pie": [
           {
            "automargin": true,
            "type": "pie"
           }
          ],
          "scatter": [
           {
            "marker": {
             "colorbar": {
              "outlinewidth": 0,
              "ticks": ""
             }
            },
            "type": "scatter"
           }
          ],
          "scatter3d": [
           {
            "line": {
             "colorbar": {
              "outlinewidth": 0,
              "ticks": ""
             }
            },
            "marker": {
             "colorbar": {
              "outlinewidth": 0,
              "ticks": ""
             }
            },
            "type": "scatter3d"
           }
          ],
          "scattercarpet": [
           {
            "marker": {
             "colorbar": {
              "outlinewidth": 0,
              "ticks": ""
             }
            },
            "type": "scattercarpet"
           }
          ],
          "scattergeo": [
           {
            "marker": {
             "colorbar": {
              "outlinewidth": 0,
              "ticks": ""
             }
            },
            "type": "scattergeo"
           }
          ],
          "scattergl": [
           {
            "marker": {
             "colorbar": {
              "outlinewidth": 0,
              "ticks": ""
             }
            },
            "type": "scattergl"
           }
          ],
          "scattermapbox": [
           {
            "marker": {
             "colorbar": {
              "outlinewidth": 0,
              "ticks": ""
             }
            },
            "type": "scattermapbox"
           }
          ],
          "scatterpolar": [
           {
            "marker": {
             "colorbar": {
              "outlinewidth": 0,
              "ticks": ""
             }
            },
            "type": "scatterpolar"
           }
          ],
          "scatterpolargl": [
           {
            "marker": {
             "colorbar": {
              "outlinewidth": 0,
              "ticks": ""
             }
            },
            "type": "scatterpolargl"
           }
          ],
          "scatterternary": [
           {
            "marker": {
             "colorbar": {
              "outlinewidth": 0,
              "ticks": ""
             }
            },
            "type": "scatterternary"
           }
          ],
          "surface": [
           {
            "colorbar": {
             "outlinewidth": 0,
             "ticks": ""
            },
            "colorscale": [
             [
              0,
              "#0d0887"
             ],
             [
              0.1111111111111111,
              "#46039f"
             ],
             [
              0.2222222222222222,
              "#7201a8"
             ],
             [
              0.3333333333333333,
              "#9c179e"
             ],
             [
              0.4444444444444444,
              "#bd3786"
             ],
             [
              0.5555555555555556,
              "#d8576b"
             ],
             [
              0.6666666666666666,
              "#ed7953"
             ],
             [
              0.7777777777777778,
              "#fb9f3a"
             ],
             [
              0.8888888888888888,
              "#fdca26"
             ],
             [
              1,
              "#f0f921"
             ]
            ],
            "type": "surface"
           }
          ],
          "table": [
           {
            "cells": {
             "fill": {
              "color": "#EBF0F8"
             },
             "line": {
              "color": "white"
             }
            },
            "header": {
             "fill": {
              "color": "#C8D4E3"
             },
             "line": {
              "color": "white"
             }
            },
            "type": "table"
           }
          ]
         },
         "layout": {
          "annotationdefaults": {
           "arrowcolor": "#2a3f5f",
           "arrowhead": 0,
           "arrowwidth": 1
          },
          "autotypenumbers": "strict",
          "coloraxis": {
           "colorbar": {
            "outlinewidth": 0,
            "ticks": ""
           }
          },
          "colorscale": {
           "diverging": [
            [
             0,
             "#8e0152"
            ],
            [
             0.1,
             "#c51b7d"
            ],
            [
             0.2,
             "#de77ae"
            ],
            [
             0.3,
             "#f1b6da"
            ],
            [
             0.4,
             "#fde0ef"
            ],
            [
             0.5,
             "#f7f7f7"
            ],
            [
             0.6,
             "#e6f5d0"
            ],
            [
             0.7,
             "#b8e186"
            ],
            [
             0.8,
             "#7fbc41"
            ],
            [
             0.9,
             "#4d9221"
            ],
            [
             1,
             "#276419"
            ]
           ],
           "sequential": [
            [
             0,
             "#0d0887"
            ],
            [
             0.1111111111111111,
             "#46039f"
            ],
            [
             0.2222222222222222,
             "#7201a8"
            ],
            [
             0.3333333333333333,
             "#9c179e"
            ],
            [
             0.4444444444444444,
             "#bd3786"
            ],
            [
             0.5555555555555556,
             "#d8576b"
            ],
            [
             0.6666666666666666,
             "#ed7953"
            ],
            [
             0.7777777777777778,
             "#fb9f3a"
            ],
            [
             0.8888888888888888,
             "#fdca26"
            ],
            [
             1,
             "#f0f921"
            ]
           ],
           "sequentialminus": [
            [
             0,
             "#0d0887"
            ],
            [
             0.1111111111111111,
             "#46039f"
            ],
            [
             0.2222222222222222,
             "#7201a8"
            ],
            [
             0.3333333333333333,
             "#9c179e"
            ],
            [
             0.4444444444444444,
             "#bd3786"
            ],
            [
             0.5555555555555556,
             "#d8576b"
            ],
            [
             0.6666666666666666,
             "#ed7953"
            ],
            [
             0.7777777777777778,
             "#fb9f3a"
            ],
            [
             0.8888888888888888,
             "#fdca26"
            ],
            [
             1,
             "#f0f921"
            ]
           ]
          },
          "colorway": [
           "#636efa",
           "#EF553B",
           "#00cc96",
           "#ab63fa",
           "#FFA15A",
           "#19d3f3",
           "#FF6692",
           "#B6E880",
           "#FF97FF",
           "#FECB52"
          ],
          "font": {
           "color": "#2a3f5f"
          },
          "geo": {
           "bgcolor": "white",
           "lakecolor": "white",
           "landcolor": "#E5ECF6",
           "showlakes": true,
           "showland": true,
           "subunitcolor": "white"
          },
          "hoverlabel": {
           "align": "left"
          },
          "hovermode": "closest",
          "mapbox": {
           "style": "light"
          },
          "paper_bgcolor": "white",
          "plot_bgcolor": "#E5ECF6",
          "polar": {
           "angularaxis": {
            "gridcolor": "white",
            "linecolor": "white",
            "ticks": ""
           },
           "bgcolor": "#E5ECF6",
           "radialaxis": {
            "gridcolor": "white",
            "linecolor": "white",
            "ticks": ""
           }
          },
          "scene": {
           "xaxis": {
            "backgroundcolor": "#E5ECF6",
            "gridcolor": "white",
            "gridwidth": 2,
            "linecolor": "white",
            "showbackground": true,
            "ticks": "",
            "zerolinecolor": "white"
           },
           "yaxis": {
            "backgroundcolor": "#E5ECF6",
            "gridcolor": "white",
            "gridwidth": 2,
            "linecolor": "white",
            "showbackground": true,
            "ticks": "",
            "zerolinecolor": "white"
           },
           "zaxis": {
            "backgroundcolor": "#E5ECF6",
            "gridcolor": "white",
            "gridwidth": 2,
            "linecolor": "white",
            "showbackground": true,
            "ticks": "",
            "zerolinecolor": "white"
           }
          },
          "shapedefaults": {
           "line": {
            "color": "#2a3f5f"
           }
          },
          "ternary": {
           "aaxis": {
            "gridcolor": "white",
            "linecolor": "white",
            "ticks": ""
           },
           "baxis": {
            "gridcolor": "white",
            "linecolor": "white",
            "ticks": ""
           },
           "bgcolor": "#E5ECF6",
           "caxis": {
            "gridcolor": "white",
            "linecolor": "white",
            "ticks": ""
           }
          },
          "title": {
           "x": 0.05
          },
          "xaxis": {
           "automargin": true,
           "gridcolor": "white",
           "linecolor": "white",
           "ticks": "",
           "title": {
            "standoff": 15
           },
           "zerolinecolor": "white",
           "zerolinewidth": 2
          },
          "yaxis": {
           "automargin": true,
           "gridcolor": "white",
           "linecolor": "white",
           "ticks": "",
           "title": {
            "standoff": 15
           },
           "zerolinecolor": "white",
           "zerolinewidth": 2
          }
         }
        },
        "title": {
         "font": {
          "color": "#4D5663"
         }
        },
        "xaxis": {
         "gridcolor": "#E1E5ED",
         "showgrid": true,
         "tickfont": {
          "color": "#4D5663"
         },
         "title": {
          "font": {
           "color": "#4D5663"
          },
          "text": ""
         },
         "zerolinecolor": "#E1E5ED"
        },
        "yaxis": {
         "gridcolor": "#E1E5ED",
         "showgrid": true,
         "tickfont": {
          "color": "#4D5663"
         },
         "title": {
          "font": {
           "color": "#4D5663"
          },
          "text": ""
         },
         "zerolinecolor": "#E1E5ED"
        }
       }
      }
     },
     "metadata": {}
    }
   ],
   "metadata": {}
  }
 ],
 "metadata": {
  "kernelspec": {
   "display_name": "Python 3",
   "language": "python",
   "name": "python3"
  },
  "language_info": {
   "codemirror_mode": {
    "name": "ipython",
    "version": 3
   },
   "file_extension": ".py",
   "mimetype": "text/x-python",
   "name": "python",
   "nbconvert_exporter": "python",
   "pygments_lexer": "ipython3",
   "version": "3.8.5"
  }
 },
 "nbformat": 4,
 "nbformat_minor": 4
}